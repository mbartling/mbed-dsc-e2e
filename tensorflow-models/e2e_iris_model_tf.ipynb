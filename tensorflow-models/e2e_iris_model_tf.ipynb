{
 "cells": [
  {
   "cell_type": "code",
   "execution_count": 1,
   "metadata": {},
   "outputs": [
    {
     "name": "stderr",
     "output_type": "stream",
     "text": [
      "/Users/yuezha01/anaconda3/envs/tensorflow_cpu/lib/python3.6/importlib/_bootstrap.py:219: RuntimeWarning: numpy.dtype size changed, may indicate binary incompatibility. Expected 96, got 88\n",
      "  return f(*args, **kwds)\n",
      "/Users/yuezha01/anaconda3/envs/tensorflow_cpu/lib/python3.6/importlib/_bootstrap.py:219: RuntimeWarning: numpy.dtype size changed, may indicate binary incompatibility. Expected 96, got 88\n",
      "  return f(*args, **kwds)\n"
     ]
    }
   ],
   "source": [
    "import sklearn\n",
    "from sklearn import datasets\n",
    "import tensorflow as tf\n",
    "import numpy as np"
   ]
  },
  {
   "cell_type": "code",
   "execution_count": 2,
   "metadata": {},
   "outputs": [],
   "source": [
    "iris = datasets.load_iris()"
   ]
  },
  {
   "cell_type": "code",
   "execution_count": 3,
   "metadata": {},
   "outputs": [
    {
     "name": "stdout",
     "output_type": "stream",
     "text": [
      "4 3 150\n"
     ]
    }
   ],
   "source": [
    "n_features = iris.data.shape[1]\n",
    "n_classes = iris.target_names.shape[0]\n",
    "data_size = iris.data.shape[0]\n",
    "print(n_features, n_classes, data_size)"
   ]
  },
  {
   "cell_type": "code",
   "execution_count": 4,
   "metadata": {},
   "outputs": [
    {
     "data": {
      "text/plain": [
       "array([0, 0, 0, 0, 0, 0, 0, 0, 0, 0, 0, 0, 0, 0, 0, 0, 0, 0, 0, 0, 0, 0,\n",
       "       0, 0, 0, 0, 0, 0, 0, 0, 0, 0, 0, 0, 0, 0, 0, 0, 0, 0, 0, 0, 0, 0,\n",
       "       0, 0, 0, 0, 0, 0, 1, 1, 1, 1, 1, 1, 1, 1, 1, 1, 1, 1, 1, 1, 1, 1,\n",
       "       1, 1, 1, 1, 1, 1, 1, 1, 1, 1, 1, 1, 1, 1, 1, 1, 1, 1, 1, 1, 1, 1,\n",
       "       1, 1, 1, 1, 1, 1, 1, 1, 1, 1, 1, 1, 2, 2, 2, 2, 2, 2, 2, 2, 2, 2,\n",
       "       2, 2, 2, 2, 2, 2, 2, 2, 2, 2, 2, 2, 2, 2, 2, 2, 2, 2, 2, 2, 2, 2,\n",
       "       2, 2, 2, 2, 2, 2, 2, 2, 2, 2, 2, 2, 2, 2, 2, 2, 2, 2])"
      ]
     },
     "execution_count": 4,
     "metadata": {},
     "output_type": "execute_result"
    }
   ],
   "source": [
    "iris.target"
   ]
  },
  {
   "cell_type": "code",
   "execution_count": 5,
   "metadata": {},
   "outputs": [],
   "source": [
    "train_data_y = np.zeros((data_size, n_classes))\n",
    "for r in range(data_size):\n",
    "    train_data_y[r, iris.target[r]] = 1"
   ]
  },
  {
   "cell_type": "code",
   "execution_count": 6,
   "metadata": {},
   "outputs": [
    {
     "data": {
      "text/plain": [
       "(150, 3)"
      ]
     },
     "execution_count": 6,
     "metadata": {},
     "output_type": "execute_result"
    }
   ],
   "source": [
    "train_data_y.shape"
   ]
  },
  {
   "cell_type": "code",
   "execution_count": 7,
   "metadata": {},
   "outputs": [
    {
     "data": {
      "text/plain": [
       "(150, 4)"
      ]
     },
     "execution_count": 7,
     "metadata": {},
     "output_type": "execute_result"
    }
   ],
   "source": [
    "train_data_x = iris.data\n",
    "train_data_x.shape"
   ]
  },
  {
   "cell_type": "code",
   "execution_count": 8,
   "metadata": {},
   "outputs": [
    {
     "data": {
      "text/plain": [
       "(150, 7)"
      ]
     },
     "execution_count": 8,
     "metadata": {},
     "output_type": "execute_result"
    }
   ],
   "source": [
    "tmp_data = np.hstack([train_data_x, train_data_y]).reshape((150, 7))\n",
    "tmp_data.shape"
   ]
  },
  {
   "cell_type": "code",
   "execution_count": 9,
   "metadata": {},
   "outputs": [
    {
     "data": {
      "text/plain": [
       "array([[5.1, 3.5, 1.4, ..., 1. , 0. , 0. ],\n",
       "       [4.9, 3. , 1.4, ..., 1. , 0. , 0. ],\n",
       "       [4.7, 3.2, 1.3, ..., 1. , 0. , 0. ],\n",
       "       ...,\n",
       "       [6.5, 3. , 5.2, ..., 0. , 0. , 1. ],\n",
       "       [6.2, 3.4, 5.4, ..., 0. , 0. , 1. ],\n",
       "       [5.9, 3. , 5.1, ..., 0. , 0. , 1. ]])"
      ]
     },
     "execution_count": 9,
     "metadata": {},
     "output_type": "execute_result"
    }
   ],
   "source": [
    "tmp_data"
   ]
  },
  {
   "cell_type": "code",
   "execution_count": 10,
   "metadata": {},
   "outputs": [],
   "source": [
    "np.random.seed(101)\n",
    "np.random.shuffle(tmp_data)"
   ]
  },
  {
   "cell_type": "code",
   "execution_count": 11,
   "metadata": {},
   "outputs": [
    {
     "name": "stdout",
     "output_type": "stream",
     "text": [
      "(150, 4) (150, 3)\n"
     ]
    }
   ],
   "source": [
    "train_data_x = tmp_data[:, 0:n_features]\n",
    "train_data_y = tmp_data[:, n_features:]\n",
    "print(train_data_x.shape, train_data_y.shape)"
   ]
  },
  {
   "cell_type": "markdown",
   "metadata": {},
   "source": [
    "#### model"
   ]
  },
  {
   "cell_type": "code",
   "execution_count": 12,
   "metadata": {},
   "outputs": [],
   "source": [
    "tf.reset_default_graph()"
   ]
  },
  {
   "cell_type": "code",
   "execution_count": 13,
   "metadata": {},
   "outputs": [],
   "source": [
    "x = tf.placeholder(dtype=tf.float32, shape=[None, n_features], name='x')\n",
    "y = tf.placeholder(dtype=tf.float32, shape=[None, n_classes], name='y')"
   ]
  },
  {
   "cell_type": "code",
   "execution_count": 14,
   "metadata": {},
   "outputs": [],
   "source": [
    "w_fc1 = tf.Variable(tf.truncated_normal(shape=[n_features, n_classes], stddev=0.1), name='w_fc1')\n",
    "b_fc1 = tf.Variable(tf.constant(0.1, shape=[n_classes]), name='b_fc1')\n",
    "logits = tf.add(tf.matmul(x, w_fc1), b_fc1, name='logits')\n",
    "y_pred = tf.argmax(logits, 1, name='y_pred')"
   ]
  },
  {
   "cell_type": "code",
   "execution_count": 15,
   "metadata": {},
   "outputs": [],
   "source": [
    "cross_entropy = tf.nn.softmax_cross_entropy_with_logits_v2(labels=y, logits=logits)\n",
    "loss = tf.reduce_mean(cross_entropy, name='cross_entropy_loss')\n",
    "train_step = tf.train.GradientDescentOptimizer(learning_rate=0.01).minimize(loss, name='train_step')\n",
    "#train_step = tf.train.AdamOptimizer(1e-4).minimize(loss, name='train_step')"
   ]
  },
  {
   "cell_type": "code",
   "execution_count": 16,
   "metadata": {},
   "outputs": [],
   "source": [
    "correct_prediction = tf.equal(y_pred, tf.argmax(y, 1))\n",
    "accuracy = tf.reduce_mean(tf.cast(correct_prediction, tf.float32), name='accuracy')"
   ]
  },
  {
   "cell_type": "code",
   "execution_count": 17,
   "metadata": {},
   "outputs": [
    {
     "name": "stdout",
     "output_type": "stream",
     "text": [
      "Initial loss=1.2792657613754272, accuracy=0.3333333432674408\n"
     ]
    }
   ],
   "source": [
    "sess = tf.Session()\n",
    "sess.run(tf.global_variables_initializer())\n",
    "l, a = sess.run([loss, accuracy], feed_dict={x: train_data_x, y: train_data_y})\n",
    "print('Initial loss={0}, accuracy={1}'.format(l, a))\n",
    "saver = tf.train.Saver()"
   ]
  },
  {
   "cell_type": "code",
   "execution_count": 18,
   "metadata": {},
   "outputs": [],
   "source": [
    "n_epochs = 10\n",
    "batch_size = 5\n",
    "n_batch = int(data_size/batch_size)"
   ]
  },
  {
   "cell_type": "code",
   "execution_count": 19,
   "metadata": {},
   "outputs": [
    {
     "name": "stdout",
     "output_type": "stream",
     "text": [
      "epoch0: loss=0.9420464038848877, accuracy=0.4533333480358124\n",
      "epoch1: loss=0.8228026628494263, accuracy=0.8933333158493042\n",
      "epoch2: loss=0.7417117357254028, accuracy=0.9333333373069763\n",
      "epoch3: loss=0.6841921806335449, accuracy=0.9399999976158142\n",
      "epoch4: loss=0.6415134072303772, accuracy=0.95333331823349\n",
      "epoch5: loss=0.6085019707679749, accuracy=0.95333331823349\n",
      "epoch6: loss=0.5820395946502686, accuracy=0.9666666388511658\n",
      "epoch7: loss=0.5601843595504761, accuracy=0.9733333587646484\n",
      "epoch8: loss=0.5416825413703918, accuracy=0.9666666388511658\n",
      "epoch9: loss=0.5256953239440918, accuracy=0.9666666388511658\n"
     ]
    }
   ],
   "source": [
    "for e in range(n_epochs):\n",
    "    batch_start, batch_end = 0, batch_size\n",
    "    for b in range(n_batch):\n",
    "        sess.run(train_step, feed_dict={x: train_data_x[batch_start:batch_end, :],\n",
    "                                        y: train_data_y[batch_start:batch_end, :]})\n",
    "        batch_start += batch_size\n",
    "        batch_end += batch_size\n",
    "    l, a = sess.run([loss, accuracy], feed_dict={x: train_data_x, y: train_data_y})\n",
    "    print('epoch{0}: loss={1}, accuracy={2}'.format(e, l, a))"
   ]
  },
  {
   "cell_type": "code",
   "execution_count": 31,
   "metadata": {},
   "outputs": [
    {
     "data": {
      "text/plain": [
       "array([[7.2, 3. , 5.8, 1.6],\n",
       "       [7. , 3.2, 4.7, 1.4],\n",
       "       [6.3, 2.7, 4.9, 1.8]])"
      ]
     },
     "execution_count": 31,
     "metadata": {},
     "output_type": "execute_result"
    }
   ],
   "source": [
    "train_data_x[3:6]"
   ]
  },
  {
   "cell_type": "code",
   "execution_count": 33,
   "metadata": {},
   "outputs": [
    {
     "data": {
      "text/plain": [
       "array([2, 1, 2])"
      ]
     },
     "execution_count": 33,
     "metadata": {},
     "output_type": "execute_result"
    }
   ],
   "source": [
    "sess.run(y_pred, feed_dict={x: train_data_x[3:6]})"
   ]
  },
  {
   "cell_type": "code",
   "execution_count": 34,
   "metadata": {},
   "outputs": [
    {
     "data": {
      "text/plain": [
       "[array([[ 0.23197283,  0.12824345, -0.16374114],\n",
       "        [ 0.3662638 , -0.31484145, -0.4200752 ],\n",
       "        [-0.7215176 ,  0.14573216,  0.53653383],\n",
       "        [-0.24337873,  0.07730086,  0.27031916]], dtype=float32),\n",
       " array([ 0.21981989,  0.10059899, -0.02041893], dtype=float32)]"
      ]
     },
     "execution_count": 34,
     "metadata": {},
     "output_type": "execute_result"
    }
   ],
   "source": [
    "sess.run([w_fc1, b_fc1])"
   ]
  },
  {
   "cell_type": "markdown",
   "metadata": {},
   "source": [
    "#### save model"
   ]
  },
  {
   "cell_type": "code",
   "execution_count": 20,
   "metadata": {},
   "outputs": [
    {
     "name": "stdout",
     "output_type": "stream",
     "text": [
      "['y_pred']\n"
     ]
    }
   ],
   "source": [
    "saver.save(sess, \"./iris_model/chkps\")\n",
    "out_nodes = [y_pred.op.name]\n",
    "print(out_nodes)"
   ]
  },
  {
   "cell_type": "code",
   "execution_count": 21,
   "metadata": {},
   "outputs": [],
   "source": [
    "from tensorflow.python.framework import graph_util as gu\n",
    "from tensorflow.python.framework.graph_util import remove_training_nodes\n",
    "from tensorflow.tools.graph_transforms import TransformGraph"
   ]
  },
  {
   "cell_type": "code",
   "execution_count": 22,
   "metadata": {},
   "outputs": [],
   "source": [
    "sub_graph_def = remove_training_nodes(sess.graph_def)"
   ]
  },
  {
   "cell_type": "code",
   "execution_count": 23,
   "metadata": {},
   "outputs": [
    {
     "name": "stdout",
     "output_type": "stream",
     "text": [
      "INFO:tensorflow:Froze 2 variables.\n",
      "INFO:tensorflow:Converted 2 variables to const ops.\n"
     ]
    }
   ],
   "source": [
    "sub_graph_def = gu.convert_variables_to_constants(sess, sub_graph_def, out_nodes)"
   ]
  },
  {
   "cell_type": "code",
   "execution_count": 24,
   "metadata": {},
   "outputs": [
    {
     "name": "stdout",
     "output_type": "stream",
     "text": [
      "written graph to: ./iris_model/iris_model.pb\n"
     ]
    }
   ],
   "source": [
    "graph_path = tf.train.write_graph(sub_graph_def,\n",
    "                                  \"./iris_model\",\n",
    "                                  \"iris_model.pb\",\n",
    "                                  as_text=False)\n",
    "\n",
    "print('written graph to: %s' % graph_path)"
   ]
  },
  {
   "cell_type": "markdown",
   "metadata": {},
   "source": [
    "#### deploy on device\n",
    "try [7.2, 3.0, 5.8, 1.6] and [7.0, 3.2, 4.7, 1.4], the output from the model is 2 and 1. Success!"
   ]
  },
  {
   "cell_type": "code",
   "execution_count": null,
   "metadata": {},
   "outputs": [],
   "source": []
  }
 ],
 "metadata": {
  "kernelspec": {
   "display_name": "Python [conda env:tensorflow_cpu]",
   "language": "python",
   "name": "conda-env-tensorflow_cpu-py"
  },
  "language_info": {
   "codemirror_mode": {
    "name": "ipython",
    "version": 3
   },
   "file_extension": ".py",
   "mimetype": "text/x-python",
   "name": "python",
   "nbconvert_exporter": "python",
   "pygments_lexer": "ipython3",
   "version": "3.6.6"
  }
 },
 "nbformat": 4,
 "nbformat_minor": 2
}
