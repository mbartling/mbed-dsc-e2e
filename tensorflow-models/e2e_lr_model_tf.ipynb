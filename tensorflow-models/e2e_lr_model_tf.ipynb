{
 "cells": [
  {
   "cell_type": "code",
   "execution_count": 1,
   "metadata": {},
   "outputs": [
    {
     "name": "stderr",
     "output_type": "stream",
     "text": [
      "/Users/yuezha01/anaconda3/envs/tensorflow_cpu/lib/python3.6/importlib/_bootstrap.py:219: RuntimeWarning: numpy.dtype size changed, may indicate binary incompatibility. Expected 96, got 88\n",
      "  return f(*args, **kwds)\n",
      "/Users/yuezha01/anaconda3/envs/tensorflow_cpu/lib/python3.6/importlib/_bootstrap.py:219: RuntimeWarning: numpy.dtype size changed, may indicate binary incompatibility. Expected 96, got 88\n",
      "  return f(*args, **kwds)\n"
     ]
    }
   ],
   "source": [
    "#import sklearn\n",
    "#from sklearn import datasets\n",
    "import tensorflow as tf\n",
    "import numpy as np"
   ]
  },
  {
   "cell_type": "code",
   "execution_count": 3,
   "metadata": {},
   "outputs": [],
   "source": [
    "w_true = np.array([1.0, 1.0]).reshape((2, 1))\n",
    "b_true = 1.0"
   ]
  },
  {
   "cell_type": "code",
   "execution_count": 4,
   "metadata": {},
   "outputs": [],
   "source": [
    "data_size = 1000\n",
    "np.random.seed(10)\n",
    "train_data_x = np.random.random(size=(data_size, 2))"
   ]
  },
  {
   "cell_type": "code",
   "execution_count": 5,
   "metadata": {},
   "outputs": [
    {
     "data": {
      "text/plain": [
       "(1000, 2)"
      ]
     },
     "execution_count": 5,
     "metadata": {},
     "output_type": "execute_result"
    }
   ],
   "source": [
    "train_data_x.shape"
   ]
  },
  {
   "cell_type": "code",
   "execution_count": 6,
   "metadata": {},
   "outputs": [
    {
     "data": {
      "text/plain": [
       "(1000, 1)"
      ]
     },
     "execution_count": 6,
     "metadata": {},
     "output_type": "execute_result"
    }
   ],
   "source": [
    "train_data_y = np.matmul(train_data_x, w_true) + b_true\n",
    "train_data_y.shape"
   ]
  },
  {
   "cell_type": "code",
   "execution_count": 7,
   "metadata": {},
   "outputs": [],
   "source": [
    "np.random.seed(101)\n",
    "test_data_x = np.random.random(size=(data_size, 2))\n",
    "test_data_y = np.matmul(test_data_x, w_true) + b_true"
   ]
  },
  {
   "cell_type": "code",
   "execution_count": 8,
   "metadata": {},
   "outputs": [
    {
     "name": "stdout",
     "output_type": "stream",
     "text": [
      "(1000, 2) (1000, 1)\n"
     ]
    }
   ],
   "source": [
    "print(train_data_x.shape, train_data_y.shape)"
   ]
  },
  {
   "cell_type": "code",
   "execution_count": 9,
   "metadata": {},
   "outputs": [
    {
     "name": "stdout",
     "output_type": "stream",
     "text": [
      "(1000, 2) (1000, 1)\n"
     ]
    }
   ],
   "source": [
    "print(test_data_x.shape, test_data_y.shape)"
   ]
  },
  {
   "cell_type": "markdown",
   "metadata": {},
   "source": [
    "#### Neural network"
   ]
  },
  {
   "cell_type": "code",
   "execution_count": 10,
   "metadata": {},
   "outputs": [],
   "source": [
    "n_features = 2\n",
    "n_class = 1"
   ]
  },
  {
   "cell_type": "code",
   "execution_count": 11,
   "metadata": {},
   "outputs": [],
   "source": [
    "tf.reset_default_graph()"
   ]
  },
  {
   "cell_type": "code",
   "execution_count": 12,
   "metadata": {},
   "outputs": [],
   "source": [
    "x = tf.placeholder(dtype=tf.float32, shape=[None, n_features], name='x')\n",
    "y = tf.placeholder(dtype=tf.float32, shape=[None, n_class], name='y')"
   ]
  },
  {
   "cell_type": "code",
   "execution_count": 13,
   "metadata": {},
   "outputs": [],
   "source": [
    "w_fc1 = tf.Variable(tf.truncated_normal(shape=[n_features, n_class], stddev=0.1), name='w_fc1')\n",
    "b_fc1 = tf.Variable(tf.constant(0.1, shape=[n_class]), name='b_fc1')"
   ]
  },
  {
   "cell_type": "code",
   "execution_count": 14,
   "metadata": {},
   "outputs": [],
   "source": [
    "y_pred = tf.add(tf.matmul(x, w_fc1), b_fc1, name='y_pred')"
   ]
  },
  {
   "cell_type": "code",
   "execution_count": 15,
   "metadata": {},
   "outputs": [],
   "source": [
    "loss = tf.reduce_mean(tf.square(y - y_pred))\n",
    "#train_step = tf.train.AdamOptimizer(1e-4).minimize(loss, name=\"train_step\")\n",
    "train_step = tf.train.GradientDescentOptimizer(learning_rate=0.01).minimize(loss, name='train_step')"
   ]
  },
  {
   "cell_type": "code",
   "execution_count": 16,
   "metadata": {},
   "outputs": [],
   "source": [
    "n_epoch = 10\n",
    "batch_size = 2\n",
    "n_batch = int(data_size / batch_size)"
   ]
  },
  {
   "cell_type": "code",
   "execution_count": 17,
   "metadata": {},
   "outputs": [
    {
     "name": "stdout",
     "output_type": "stream",
     "text": [
      "Initial loss = 3.289672374725342\n"
     ]
    }
   ],
   "source": [
    "sess = tf.Session()\n",
    "sess.run(tf.global_variables_initializer())\n",
    "print('Initial loss = {}'.format(sess.run(loss, feed_dict={x: test_data_x, y:test_data_y})))\n",
    "saver = tf.train.Saver()"
   ]
  },
  {
   "cell_type": "code",
   "execution_count": 18,
   "metadata": {},
   "outputs": [
    {
     "name": "stdout",
     "output_type": "stream",
     "text": [
      "epoch0: loss=0.003971228376030922, w=[[0.81850445]\n",
      " [0.87285185]], b=[1.163132]\n",
      "epoch1: loss=0.0012793572386726737, w=[[0.897092]\n",
      " [0.927687]], b=[1.092613]\n",
      "epoch2: loss=0.00041217400575987995, w=[[0.9416348 ]\n",
      " [0.95889324]], b=[1.0525765]\n",
      "epoch3: loss=0.00013279521954245865, w=[[0.966891 ]\n",
      " [0.9766405]], b=[1.0298468]\n",
      "epoch4: loss=4.27838895120658e-05, w=[[0.9812152]\n",
      " [0.9867299]], b=[1.0169429]\n",
      "epoch5: loss=1.3785638657282107e-05, w=[[0.98934066]\n",
      " [0.9924626 ]], b=[1.0096183]\n",
      "epoch6: loss=4.442105819180142e-06, w=[[0.9939506 ]\n",
      " [0.99571943]], b=[1.00546]\n",
      "epoch7: loss=1.4310061260403018e-06, w=[[0.9965669 ]\n",
      " [0.99756974]], b=[1.003099]\n",
      "epoch8: loss=4.608922381521552e-07, w=[[0.9980522]\n",
      " [0.9986201]], b=[1.0017588]\n",
      "epoch9: loss=1.485476133211705e-07, w=[[0.99889445]\n",
      " [0.99921614]], b=[1.0009985]\n"
     ]
    }
   ],
   "source": [
    "for e in range(n_epoch):\n",
    "    batch_start, batch_end = 0, batch_size\n",
    "    for b in range(n_batch):\n",
    "        sess.run(train_step, feed_dict = {x: train_data_x[batch_start:batch_end, :],\n",
    "                                          y: train_data_y[batch_start:batch_end, :]})\n",
    "        batch_start += batch_size\n",
    "        batch_end += batch_size\n",
    "    l = sess.run(loss, feed_dict = {x: test_data_x, y: test_data_y})\n",
    "    print('epoch{0}: loss={1}, w={2}, b={3}'.format(e, l, sess.run(w_fc1), sess.run(b_fc1)))"
   ]
  },
  {
   "cell_type": "code",
   "execution_count": 19,
   "metadata": {},
   "outputs": [
    {
     "data": {
      "text/plain": [
       "array([[3.9983253]], dtype=float32)"
      ]
     },
     "execution_count": 19,
     "metadata": {},
     "output_type": "execute_result"
    }
   ],
   "source": [
    "sess.run(y_pred, feed_dict={x: np.array([[1.0, 2.0]])})"
   ]
  },
  {
   "cell_type": "code",
   "execution_count": 20,
   "metadata": {},
   "outputs": [
    {
     "name": "stdout",
     "output_type": "stream",
     "text": [
      "['y_pred']\n"
     ]
    }
   ],
   "source": [
    "saver.save(sess, \"./lr_model/chkps\")\n",
    "out_nodes = [y_pred.op.name]\n",
    "print(out_nodes)"
   ]
  },
  {
   "cell_type": "code",
   "execution_count": 21,
   "metadata": {},
   "outputs": [],
   "source": [
    "from tensorflow.python.framework import graph_util as gu\n",
    "from tensorflow.python.framework.graph_util import remove_training_nodes\n",
    "from tensorflow.tools.graph_transforms import TransformGraph"
   ]
  },
  {
   "cell_type": "code",
   "execution_count": 22,
   "metadata": {},
   "outputs": [],
   "source": [
    "sub_graph_def = remove_training_nodes(sess.graph_def)"
   ]
  },
  {
   "cell_type": "code",
   "execution_count": 23,
   "metadata": {},
   "outputs": [
    {
     "name": "stdout",
     "output_type": "stream",
     "text": [
      "INFO:tensorflow:Froze 2 variables.\n",
      "INFO:tensorflow:Converted 2 variables to const ops.\n"
     ]
    }
   ],
   "source": [
    "sub_graph_def = gu.convert_variables_to_constants(sess, sub_graph_def, out_nodes)"
   ]
  },
  {
   "cell_type": "code",
   "execution_count": 25,
   "metadata": {},
   "outputs": [
    {
     "name": "stdout",
     "output_type": "stream",
     "text": [
      "written graph to: ./lr_model/lr_model.pb\n"
     ]
    }
   ],
   "source": [
    "graph_path = tf.train.write_graph(sub_graph_def,\n",
    "                                  \"./lr_model\",\n",
    "                                  \"lr_model.pb\",\n",
    "                                  as_text=False)\n",
    "\n",
    "print('written graph to: %s' % graph_path)"
   ]
  },
  {
   "cell_type": "code",
   "execution_count": null,
   "metadata": {},
   "outputs": [],
   "source": [
    "sess.close()"
   ]
  },
  {
   "cell_type": "markdown",
   "metadata": {},
   "source": [
    "#### Use uTensor to generate C++ source code from the saved model\n",
    "* conda activate tensorflow_cpu\n",
    "* utensor-cli convert <path to .pb file> --output-nodes=y_pred, for example, utensor-cli convert ./tensorflow-models/lr_model/lr_model.pb --output-nodes=y_pred"
   ]
  },
  {
   "cell_type": "markdown",
   "metadata": {},
   "source": [
    "#### mbed compile the model with mbed-os\n",
    "* modify the main.cpp with #include and get_<model-name>_ctx()\n",
    "* mbed compile -m DISCO_F413ZH -t GCC_ARM --profile=uTensor/build_profile/release.json"
   ]
  },
  {
   "cell_type": "markdown",
   "metadata": {},
   "source": [
    "#### Question\n",
    "* lr_model_weight.hpp shows the right value\n",
    "* why the value shown in Serial terminal is 1090520913, which is supposed to be 8?\n",
    "* use float in .hpp and int in main.cpp - 1090520913\n",
    "  use int in .hpp and int in main.cpp - 1547681806\n",
    "  use int in .hpp and float in main.cpp - 1075840573"
   ]
  },
  {
   "cell_type": "code",
   "execution_count": null,
   "metadata": {},
   "outputs": [],
   "source": []
  }
 ],
 "metadata": {
  "kernelspec": {
   "display_name": "Python [conda env:tensorflow_cpu]",
   "language": "python",
   "name": "conda-env-tensorflow_cpu-py"
  },
  "language_info": {
   "codemirror_mode": {
    "name": "ipython",
    "version": 3
   },
   "file_extension": ".py",
   "mimetype": "text/x-python",
   "name": "python",
   "nbconvert_exporter": "python",
   "pygments_lexer": "ipython3",
   "version": "3.6.6"
  }
 },
 "nbformat": 4,
 "nbformat_minor": 2
}
